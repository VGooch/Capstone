{
 "cells": [
  {
   "cell_type": "code",
   "execution_count": null,
   "id": "quarterly-allergy",
   "metadata": {},
   "outputs": [],
   "source": [
    "from shapely.geometry import Point\n",
    "import requests\n",
    "from IPython.display import Image\n",
    "import pandas as pd\n",
    "import matplotlib.pyplot as plt\n",
    "import seaborn as sns\n",
    "import geopandas as gpd\n",
    "import requests\n",
    "import folium\n",
    "from folium.plugins import MarkerCluster\n",
    "from folium.plugins import FastMarkerCluster\n",
    "from IPython.display import Image\n",
    "import pickle\n",
    "import numpy as np\n",
    "import pyproj\n",
    "from geopy.extra.rate_limiter import RateLimiter\n",
    "from geopy.geocoders import Nominatim\n",
    "import time\n",
    "\n",
    "%matplotlib inline"
   ]
  },
  {
   "cell_type": "code",
   "execution_count": null,
   "id": "another-quest",
   "metadata": {},
   "outputs": [],
   "source": [
    "Income_Bank = pd.read_csv('../data/Income_and_Bankruptcy.csv')\n",
    "Schools = gpd.read_file('../data/Schools.geojson')"
   ]
  },
  {
   "cell_type": "code",
   "execution_count": null,
   "id": "legal-summer",
   "metadata": {},
   "outputs": [],
   "source": [
    "# Bring in the TIGER file:\n",
    "counties = gpd.read_file('../data/tn_counties/tncounty.shp')\n",
    "print(counties.crs)\n",
    "counties.head()"
   ]
  },
  {
   "cell_type": "code",
   "execution_count": null,
   "id": "promising-letters",
   "metadata": {},
   "outputs": [],
   "source": [
    "tennessee = pd.merge(left = counties, right = Income_Bank,\n",
    "                    left_on = 'NAME', right_on = 'County')\n",
    "tennessee.head()"
   ]
  },
  {
   "cell_type": "code",
   "execution_count": null,
   "id": "spectacular-eating",
   "metadata": {},
   "outputs": [],
   "source": [
    "fig, ax = plt.subplots(figsize=(16,4))\n",
    "tennessee.plot(column = 'Per Capita Individual',\n",
    "               cmap = 'Purples',\n",
    "               edgecolor = 'grey',\n",
    "                legend = True,\n",
    "              ax = ax)\n",
    "plt.title('Per Capita Bankruptcies Reported By County in 2020 per 100,000 people', fontsize = 16)\n",
    "ax.axis('off');"
   ]
  },
  {
   "cell_type": "code",
   "execution_count": null,
   "id": "seeing-diana",
   "metadata": {},
   "outputs": [],
   "source": [
    "fig, ax = plt.subplots(figsize=(16,4))\n",
    "tennessee.plot(column = 'Total Individual',\n",
    "               cmap = 'Oranges',\n",
    "               edgecolor = 'grey',\n",
    "                legend = True,\n",
    "              ax = ax)\n",
    "plt.title('Total Number of Bankruptcies Reported By County in 2020', fontsize = 16)\n",
    "ax.axis('off');"
   ]
  },
  {
   "cell_type": "code",
   "execution_count": null,
   "id": "sunrise-henry",
   "metadata": {},
   "outputs": [],
   "source": [
    "fig, ax = plt.subplots(figsize=(16,4))\n",
    "tennessee.plot(column = 'Per Capita Income',\n",
    "               cmap = 'Purples',\n",
    "               edgecolor = 'grey',\n",
    "                legend = True,\n",
    "              ax = ax)\n",
    "plt.title('Per Capita Median Income Reported By County over 2015-2020', fontsize = 16)\n",
    "ax.axis('off');"
   ]
  },
  {
   "cell_type": "code",
   "execution_count": null,
   "id": "every-shakespeare",
   "metadata": {},
   "outputs": [],
   "source": [
    "fig, ax = plt.subplots(figsize=(16,4))\n",
    "tennessee.plot(column = 'Median Household Income',\n",
    "               cmap = 'Oranges',\n",
    "               edgecolor = 'grey',\n",
    "                legend = True,\n",
    "              ax = ax)\n",
    "plt.title('Median Income Reported By County in 2015-2020', fontsize = 16)\n",
    "ax.axis('off');"
   ]
  },
  {
   "cell_type": "code",
   "execution_count": null,
   "id": "diagnostic-wellington",
   "metadata": {},
   "outputs": [],
   "source": [
    "counties = counties.to_crs('EPSG:4326')"
   ]
  },
  {
   "cell_type": "code",
   "execution_count": null,
   "id": "posted-growth",
   "metadata": {},
   "outputs": [],
   "source": [
    "counties.head(5)"
   ]
  },
  {
   "cell_type": "code",
   "execution_count": null,
   "id": "ongoing-person",
   "metadata": {},
   "outputs": [],
   "source": [
    "counties.loc[0, 'geometry']"
   ]
  },
  {
   "cell_type": "code",
   "execution_count": null,
   "id": "appropriate-holiday",
   "metadata": {},
   "outputs": [],
   "source": [
    "counties.plot();"
   ]
  },
  {
   "cell_type": "code",
   "execution_count": null,
   "id": "intense-theme",
   "metadata": {},
   "outputs": [],
   "source": [
    "#geopandas handles legend styling if you pass a dict of keywords\n",
    "\n",
    "leg_kwds = {'title': 'Counties', 'loc': 'upper left', \n",
    "            'bbox_to_anchor': (1, 1.03), 'ncol': 1}\n",
    "\n",
    "counties.plot(column = 'NAME', figsize=(10, 10),\n",
    "              edgecolor = 'black',\n",
    "              legend = True, legend_kwds = leg_kwds, \n",
    "              cmap = 'Set2')\n",
    "plt.show()"
   ]
  },
  {
   "cell_type": "code",
   "execution_count": null,
   "id": "accurate-engineer",
   "metadata": {},
   "outputs": [],
   "source": [
    "School_geo = gpd.GeoDataFrame(Schools,\n",
    "                             crs = counties.crs,\n",
    "                             geometry = Schools['geometry'])"
   ]
  },
  {
   "cell_type": "code",
   "execution_count": null,
   "id": "legal-trigger",
   "metadata": {},
   "outputs": [],
   "source": [
    "type(School_geo)"
   ]
  },
  {
   "cell_type": "code",
   "execution_count": null,
   "id": "democratic-performance",
   "metadata": {},
   "outputs": [],
   "source": [
    "Schools_by_county = gpd.sjoin(School_geo, counties, op = 'within')"
   ]
  },
  {
   "cell_type": "code",
   "execution_count": null,
   "id": "cosmetic-august",
   "metadata": {},
   "outputs": [],
   "source": [
    "Schools_by_county['NAME'].value_counts()"
   ]
  },
  {
   "cell_type": "code",
   "execution_count": null,
   "id": "compact-income",
   "metadata": {},
   "outputs": [],
   "source": [
    "Public = "
   ]
  },
  {
   "cell_type": "code",
   "execution_count": null,
   "id": "double-constraint",
   "metadata": {},
   "outputs": [],
   "source": [
    "Private ="
   ]
  },
  {
   "cell_type": "code",
   "execution_count": null,
   "id": "premium-rachel",
   "metadata": {},
   "outputs": [],
   "source": [
    "Homeschool ="
   ]
  },
  {
   "cell_type": "code",
   "execution_count": null,
   "id": "accurate-cathedral",
   "metadata": {},
   "outputs": [],
   "source": [
    "Homebound ="
   ]
  },
  {
   "cell_type": "code",
   "execution_count": null,
   "id": "heated-volleyball",
   "metadata": {},
   "outputs": [],
   "source": []
  },
  {
   "cell_type": "code",
   "execution_count": null,
   "id": "oriented-virus",
   "metadata": {},
   "outputs": [],
   "source": [
    "ax = counties.plot(figsize = (8, 10), color = 'lightgreen')\n",
    "Schools_by_county.plot( ax = ax, column = 'NAME');\n",
    "plt.show();"
   ]
  },
  {
   "cell_type": "code",
   "execution_count": null,
   "id": "worse-andrew",
   "metadata": {},
   "outputs": [],
   "source": [
    "#basemap (used state cap. for the lat/long)\n",
    "TN_base = folium.Map(location = [35.864320444977146, -86.36219096598812], zoom_start = 7, control_scale = True)\n",
    "            \n",
    "#create cluster with All Schools\n",
    "marker_cluster = MarkerCluster(name = 'All Schools').add_to(TN_base)\n",
    "\n",
    "for row_index, row_values in Schools_by_county.iterrows():\n",
    "        loc = row_values['lat'], row_values['lon']\n",
    "        pop = str(row_values['NAME'])\n",
    "        icon = folium.Icon(color = 'red', prefix = 'fa')\n",
    "        marker = folium.Marker(location = loc,\n",
    "                              popup = pop,\n",
    "                              icon = icon)\n",
    "        marker.add_to(marker_cluster)\n",
    "        \n",
    "#create cluster with Private Schools\n",
    "#marker_cluster = MarkerCluster(name = 'Private Schools').add_to(TN_base)\n",
    "#\n",
    "#for row_index, row_values in Private.iterrows():\n",
    "#        loc = row_values['lat'], row_values['lon']\n",
    "#        pop = str(row_values['NAME'])\n",
    "#        icon = folium.Icon(color = 'green', prefix = 'fa')\n",
    "#        marker = folium.Marker(location = loc,\n",
    "#                               popup = pop,\n",
    "#                               icon = icon)\n",
    "#        marker.add_to(mark_cluster)\n",
    "#        \n",
    "##create cluster with Public Schools\n",
    "#marker_cluster = MarkerCluster(name = 'Public Schools').add_to(TN_base)\n",
    "#\n",
    "#for row_index, row_values in Public.iterrows():\n",
    "#        loc = row_values['lat'], row_values['lon']\n",
    "#        pop = str(row_values['NAME'])\n",
    "#        icon = folium.Icon(color = 'green', prefix = 'fa')\n",
    "#        marker = folium.Marker(location = loc,\n",
    "#                               popup = pop,\n",
    "#                               icon = icon)\n",
    "#        marker.add_to(marker_cluster)\n",
    "#        \n",
    "##create cluster with Homeschools\n",
    "#marker_cluster = MarkerCluster(name = 'Homeschools').add_to(TN_base)\n",
    "#\n",
    "#for row_index, row_values in Homeschools.iterrows():\n",
    "#        loc = row_values['lat'], row_values['lon']\n",
    "#        pop = str(row_values['NAME'])\n",
    "#        icon = folium.Icon(color = 'green', prefix = 'fa')\n",
    "#        marker = folium.Marker(location = loc,\n",
    "#                               popup = pop,\n",
    "#                               icon = icon)\n",
    "#        marker.add_to(marker_cluster)\n",
    "#\n",
    "#        #create cluster with Homebound\n",
    "#marker_cluster = MarkerCluster(name = 'Homebound Schools').add_to(TN_base)\n",
    "#\n",
    "#for row_index, row_values in Homesbound.iterrows():\n",
    "#        loc = row_values['lat'], row_values['lon']\n",
    "#        pop = str(row_values['NAME'])\n",
    "#        icon = folium.Icon(color = 'green', prefix = 'fa')\n",
    "#        marker = folium.Marker(location = loc,\n",
    "#                               popup = pop,\n",
    "#                               icon = icon)\n",
    "#        marker.add_to(marker_cluster)\n",
    "#\n",
    "##create cluster with ??\n",
    "#marker_cluster = MarkerCluster(name = '').add_to(TN_base)\n",
    "#\n",
    "#for row_index, row_values in ??.iterrows():\n",
    "#        loc = row_values['lat'], row_values['lon']\n",
    "#        pop = str(row_values['NAME'])\n",
    "#        icon = folium.Icon(color = 'green', prefix = 'fa')\n",
    "#        marker = folium.Marker(location = loc,\n",
    "#                               popup = pop,\n",
    "#                               icon = icon)\n",
    "#        marker.add_to(marker_cluster)\n",
    "#"
   ]
  },
  {
   "cell_type": "code",
   "execution_count": null,
   "id": "focused-inflation",
   "metadata": {},
   "outputs": [],
   "source": [
    "TN_base"
   ]
  },
  {
   "cell_type": "code",
   "execution_count": null,
   "id": "patient-skating",
   "metadata": {},
   "outputs": [],
   "source": [
    "folium.Map?"
   ]
  },
  {
   "cell_type": "code",
   "execution_count": null,
   "id": "leading-wallet",
   "metadata": {},
   "outputs": [],
   "source": [
    "School_map.save('../maps/School_map.html')\n",
    "\n",
    "School_map"
   ]
  },
  {
   "cell_type": "code",
   "execution_count": null,
   "id": "extreme-account",
   "metadata": {},
   "outputs": [],
   "source": []
  },
  {
   "cell_type": "code",
   "execution_count": null,
   "id": "clean-simpson",
   "metadata": {},
   "outputs": [],
   "source": []
  },
  {
   "cell_type": "code",
   "execution_count": null,
   "id": "figured-retrieval",
   "metadata": {},
   "outputs": [],
   "source": []
  },
  {
   "cell_type": "code",
   "execution_count": null,
   "id": "resistant-nowhere",
   "metadata": {},
   "outputs": [],
   "source": []
  },
  {
   "cell_type": "code",
   "execution_count": null,
   "id": "caring-contract",
   "metadata": {},
   "outputs": [],
   "source": []
  },
  {
   "cell_type": "code",
   "execution_count": null,
   "id": "alpha-median",
   "metadata": {},
   "outputs": [],
   "source": []
  },
  {
   "cell_type": "code",
   "execution_count": null,
   "id": "invalid-hunger",
   "metadata": {},
   "outputs": [],
   "source": []
  },
  {
   "cell_type": "code",
   "execution_count": null,
   "id": "sonic-undergraduate",
   "metadata": {},
   "outputs": [],
   "source": []
  },
  {
   "cell_type": "code",
   "execution_count": null,
   "id": "editorial-oasis",
   "metadata": {},
   "outputs": [],
   "source": []
  },
  {
   "cell_type": "code",
   "execution_count": null,
   "id": "visible-split",
   "metadata": {},
   "outputs": [],
   "source": []
  }
 ],
 "metadata": {
  "kernelspec": {
   "display_name": "Python 3",
   "language": "python",
   "name": "python3"
  },
  "language_info": {
   "codemirror_mode": {
    "name": "ipython",
    "version": 3
   },
   "file_extension": ".py",
   "mimetype": "text/x-python",
   "name": "python",
   "nbconvert_exporter": "python",
   "pygments_lexer": "ipython3",
   "version": "3.8.5"
  }
 },
 "nbformat": 4,
 "nbformat_minor": 5
}
